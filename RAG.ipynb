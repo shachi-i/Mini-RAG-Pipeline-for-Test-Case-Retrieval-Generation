{
  "nbformat": 4,
  "nbformat_minor": 0,
  "metadata": {
    "colab": {
      "provenance": [],
      "authorship_tag": "ABX9TyNsrQ5sxXv7uNBRxL0ETQ8B",
      "include_colab_link": true
    },
    "kernelspec": {
      "name": "python3",
      "display_name": "Python 3"
    },
    "language_info": {
      "name": "python"
    }
  },
  "cells": [
    {
      "cell_type": "markdown",
      "metadata": {
        "id": "view-in-github",
        "colab_type": "text"
      },
      "source": [
        "<a href=\"https://colab.research.google.com/github/shachi-i/Mini-RAG-Pipeline-for-Test-Case-Retrieval-Generation/blob/main/RAG.ipynb\" target=\"_parent\"><img src=\"https://colab.research.google.com/assets/colab-badge.svg\" alt=\"Open In Colab\"/></a>"
      ]
    },
    {
      "cell_type": "markdown",
      "source": [
        "**Test Case Retrieval for RAG-Assisted Generation**"
      ],
      "metadata": {
        "id": "km-VHk_c2c31"
      }
    },
    {
      "cell_type": "markdown",
      "source": [
        "loading the test cases\n"
      ],
      "metadata": {
        "id": "_mwJaFzi2h-D"
      }
    },
    {
      "cell_type": "code",
      "execution_count": 48,
      "metadata": {
        "id": "b1qrD1mUQawn"
      },
      "outputs": [],
      "source": [
        "test_cases = [\n",
        "  {\n",
        "    \"title\": \"Logged-in user completes checkout with valid credit card\",\n",
        "    \"steps\": [\n",
        "      \"Navigate to product page and add an in-stock item to the cart\",\n",
        "      \"Proceed to checkout\",\n",
        "      \"Confirm shipping address and choose standard delivery\",\n",
        "      \"Select 'Credit Card' as payment method\",\n",
        "      \"Enter valid credit card details\",\n",
        "      \"Submit order\"\n",
        "    ],\n",
        "    \"expected_results\": [\n",
        "      \"Order is successfully placed.\",\n",
        "      \"Confirmation message is shown with order ID.\"\n",
        "    ]\n",
        "  },\n",
        "  {\n",
        "    \"title\": \"Guest user attempts checkout without logging in\",\n",
        "    \"steps\": [\n",
        "      \"Add an in-stock item to the cart\",\n",
        "      \"Click on checkout\",\n",
        "      \"Try to proceed without logging in\"\n",
        "    ],\n",
        "    \"expected_results\": [\n",
        "      \"User is redirected to login or sign-up page.\",\n",
        "      \"Prompt appears asking to log in before proceeding.\"\n",
        "    ]\n",
        "  },\n",
        "  {\n",
        "    \"title\": \"Checkout fails with expired credit card\",\n",
        "    \"steps\": [\n",
        "      \"Add item to cart\",\n",
        "      \"Proceed to checkout\",\n",
        "      \"Enter expired credit card information\",\n",
        "      \"Submit payment\"\n",
        "    ],\n",
        "    \"expected_results\": [\n",
        "      \"Transaction is declined.\",\n",
        "      \"Error message indicates expired card.\"\n",
        "    ]\n",
        "  },\n",
        "  {\n",
        "    \"title\": \"User uses saved address and saved card to checkout\",\n",
        "    \"steps\": [\n",
        "      \"Log in with user account\",\n",
        "      \"Add item to cart\",\n",
        "      \"Proceed to checkout\",\n",
        "      \"Use pre-saved address\",\n",
        "      \"Use pre-saved credit card\",\n",
        "      \"Submit order\"\n",
        "    ],\n",
        "    \"expected_results\": [\n",
        "      \"Order is placed successfully using saved information.\"\n",
        "    ]\n",
        "  },\n",
        "  {\n",
        "    \"title\": \"User enters invalid CVV number\",\n",
        "    \"steps\": [\n",
        "      \"Log in and add item to cart\",\n",
        "      \"Choose 'Credit Card' at payment step\",\n",
        "      \"Enter invalid CVV number\",\n",
        "      \"Try to complete the purchase\"\n",
        "    ],\n",
        "    \"expected_results\": [\n",
        "      \"System displays error.\",\n",
        "      \"Transaction is blocked.\"\n",
        "    ]\n",
        "  },\n",
        "  {\n",
        "    \"title\": \"Server returns 500 error during final checkout submission\",\n",
        "    \"steps\": [\n",
        "      \"Add item to cart\",\n",
        "      \"Proceed to checkout\",\n",
        "      \"Enter valid details\",\n",
        "      \"Submit the order\",\n",
        "      \"Simulate server-side 500 error\"\n",
        "    ],\n",
        "    \"expected_results\": [\n",
        "      \"Order submission fails.\",\n",
        "      \"User-friendly error message is shown.\",\n",
        "      \"Order is not processed.\"\n",
        "    ]\n",
        "  },\n",
        "  {\n",
        "    \"title\": \"User tries to checkout with insufficient balance\",\n",
        "    \"steps\": [\n",
        "      \"Add item to cart\",\n",
        "      \"Proceed to checkout\",\n",
        "      \"Enter credit card with insufficient balance\",\n",
        "      \"Submit payment\"\n",
        "    ],\n",
        "    \"expected_results\": [\n",
        "      \"Transaction is declined.\",\n",
        "      \"Error about insufficient funds.\"\n",
        "    ]\n",
        "  },\n",
        "  {\n",
        "    \"title\": \"Form validation prevents checkout with missing shipping address\",\n",
        "    \"steps\": [\n",
        "      \"Add item to cart\",\n",
        "      \"Proceed to checkout\",\n",
        "      \"Leave shipping address blank\",\n",
        "      \"Try to submit order\"\n",
        "    ],\n",
        "    \"expected_results\": [\n",
        "      \"Validation error shown.\",\n",
        "      \"Checkout does not proceed.\"\n",
        "    ]\n",
        "  },\n",
        "  {\n",
        "    \"title\": \"Apply discount code during checkout\",\n",
        "    \"steps\": [\n",
        "      \"Add item to cart\",\n",
        "      \"Proceed to checkout\",\n",
        "      \"Enter valid discount code\",\n",
        "      \"Submit order\"\n",
        "    ],\n",
        "    \"expected_results\": [\n",
        "      \"Order is placed with discount applied.\"\n",
        "    ]\n",
        "  },\n",
        "  {\n",
        "    \"title\": \"Invalid discount code is rejected at checkout\",\n",
        "    \"steps\": [\n",
        "      \"Add item to cart\",\n",
        "      \"Proceed to checkout\",\n",
        "      \"Enter invalid discount code\",\n",
        "      \"Attempt to apply code\"\n",
        "    ],\n",
        "    \"expected_results\": [\n",
        "      \"Error message shown.\",\n",
        "      \"Discount not applied.\"\n",
        "    ]\n",
        "  }\n",
        "]"
      ]
    },
    {
      "cell_type": "code",
      "source": [
        "!pip install -q sentence-transformers faiss-cpu\n",
        "\n",
        "from sentence_transformers import SentenceTransformer\n",
        "from sklearn.metrics.pairwise import cosine_similarity\n",
        "import numpy as np\n",
        "import json\n",
        "import faiss"
      ],
      "metadata": {
        "id": "dj8lwlweki-c"
      },
      "execution_count": 49,
      "outputs": []
    },
    {
      "cell_type": "code",
      "source": [
        "model = SentenceTransformer(\"all-MiniLM-L6-v2\")"
      ],
      "metadata": {
        "id": "wUOGivS9oswP"
      },
      "execution_count": 50,
      "outputs": []
    },
    {
      "cell_type": "markdown",
      "source": [
        "making chunks and embedding"
      ],
      "metadata": {
        "id": "OH7YycU72u7o"
      }
    },
    {
      "cell_type": "code",
      "source": [
        "texts = []\n",
        "for tc in test_cases:\n",
        "    text = tc[\"title\"] + \". \" + \" \".join(tc[\"steps\"]) + \" \" + \" \".join(tc[\"expected_results\"])\n",
        "    texts.append(text)\n",
        "\n",
        "embeddings = model.encode(texts, convert_to_numpy=True)"
      ],
      "metadata": {
        "id": "6V-Oh4iapH0m"
      },
      "execution_count": 51,
      "outputs": []
    },
    {
      "cell_type": "code",
      "source": [
        "user_prompt = \"Check what happens when a logged-in user uses a saved card and the server fails.\"\n",
        "prompt_embedding = model.encode([user_prompt])\n"
      ],
      "metadata": {
        "id": "IkpObuo2s6Gv"
      },
      "execution_count": 52,
      "outputs": []
    },
    {
      "cell_type": "markdown",
      "source": [
        "using faiss for similarity search"
      ],
      "metadata": {
        "id": "AJFGCnyv3BV2"
      }
    },
    {
      "cell_type": "code",
      "source": [
        "index = faiss.IndexFlatL2(embeddings.shape[1])\n",
        "index.add(embeddings)\n",
        "distances, indices = index.search(prompt_embedding, 3)"
      ],
      "metadata": {
        "id": "_md4fHvBtI-a"
      },
      "execution_count": 53,
      "outputs": []
    },
    {
      "cell_type": "markdown",
      "source": [
        "retrieving and printing top 3 relevant test cases"
      ],
      "metadata": {
        "id": "2f0qfNt03Dxj"
      }
    },
    {
      "cell_type": "code",
      "source": [
        "print(\"\\nTop 3 Relevant Test Cases for Prompt:\\n\")\n",
        "for i, idx in enumerate(indices[0]):\n",
        "    tc = test_cases[idx]\n",
        "    print(f\"{i+1}. {tc['title']}\")\n",
        "    for step in tc[\"steps\"]:\n",
        "        print(\"   -\", step)\n",
        "    print(\" Expected Results:\")\n",
        "    for res in tc[\"expected_results\"]:\n",
        "        print(\"     •\", res)\n",
        "    print(\"\\n---\\n\")\n"
      ],
      "metadata": {
        "colab": {
          "base_uri": "https://localhost:8080/"
        },
        "id": "W67xfpERtOZR",
        "outputId": "7b96a7f0-3ea8-49bf-f4b5-e2e733b72e94"
      },
      "execution_count": 63,
      "outputs": [
        {
          "output_type": "stream",
          "name": "stdout",
          "text": [
            "\n",
            "Top 3 Relevant Test Cases for Prompt:\n",
            "\n",
            "1. User uses saved address and saved card to checkout\n",
            "   - Log in with user account\n",
            "   - Add item to cart\n",
            "   - Proceed to checkout\n",
            "   - Use pre-saved address\n",
            "   - Use pre-saved credit card\n",
            "   - Submit order\n",
            " Expected Results:\n",
            "     • Order is placed successfully using saved information.\n",
            "\n",
            "---\n",
            "\n",
            "2. Guest user attempts checkout without logging in\n",
            "   - Add an in-stock item to the cart\n",
            "   - Click on checkout\n",
            "   - Try to proceed without logging in\n",
            " Expected Results:\n",
            "     • User is redirected to login or sign-up page.\n",
            "     • Prompt appears asking to log in before proceeding.\n",
            "\n",
            "---\n",
            "\n",
            "3. User enters invalid CVV number\n",
            "   - Log in and add item to cart\n",
            "   - Choose 'Credit Card' at payment step\n",
            "   - Enter invalid CVV number\n",
            "   - Try to complete the purchase\n",
            " Expected Results:\n",
            "     • System displays error.\n",
            "     • Transaction is blocked.\n",
            "\n",
            "---\n",
            "\n"
          ]
        }
      ]
    }
  ]
}